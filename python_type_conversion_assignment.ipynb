{
 "cells": [
  {
   "cell_type": "markdown",
   "id": "ae13e1cd",
   "metadata": {},
   "source": [
    "### Convert an integer to a floating-point number."
   ]
  },
  {
   "cell_type": "code",
   "execution_count": null,
   "id": "33f067ae",
   "metadata": {},
   "outputs": [],
   "source": [
    "num = 42\n",
    "float_num = float(num)\n",
    "print(f'Integer: {num}, Floating-point: {float_num}')"
   ]
  },
  {
   "cell_type": "markdown",
   "id": "ec33e43a",
   "metadata": {},
   "source": [
    "### Convert a float to an integer."
   ]
  },
  {
   "cell_type": "code",
   "execution_count": null,
   "id": "bd11c3b7",
   "metadata": {},
   "outputs": [],
   "source": [
    "float_num = 42.8\n",
    "int_num = int(float_num)\n",
    "print(f'Float: {float_num}, Integer: {int_num}')"
   ]
  },
  {
   "cell_type": "markdown",
   "id": "2a237ede",
   "metadata": {},
   "source": [
    "### Convert an integer to a string."
   ]
  },
  {
   "cell_type": "code",
   "execution_count": null,
   "id": "bd70ca0b",
   "metadata": {},
   "outputs": [],
   "source": [
    "num = 123\n",
    "str_num = str(num)\n",
    "print(f'Integer: {num}, String: \"{str_num}\"')"
   ]
  },
  {
   "cell_type": "markdown",
   "id": "a60d2b19",
   "metadata": {},
   "source": [
    "### Convert a list to a tuple."
   ]
  },
  {
   "cell_type": "code",
   "execution_count": null,
   "id": "68eca33a",
   "metadata": {},
   "outputs": [],
   "source": [
    "lst = [1, 2, 3, 4]\n",
    "tuple_data = tuple(lst)\n",
    "print(f'List: {lst}, Tuple: {tuple_data}')"
   ]
  },
  {
   "cell_type": "markdown",
   "id": "2769b95f",
   "metadata": {},
   "source": [
    "### Convert a tuple to a list."
   ]
  },
  {
   "cell_type": "code",
   "execution_count": null,
   "id": "cf7f4124",
   "metadata": {},
   "outputs": [],
   "source": [
    "tpl = (5, 6, 7, 8)\n",
    "list_data = list(tpl)\n",
    "print(f'Tuple: {tpl}, List: {list_data}')"
   ]
  },
  {
   "cell_type": "markdown",
   "id": "f50b3632",
   "metadata": {},
   "source": [
    "### Convert a non-zero number to boolean."
   ]
  },
  {
   "cell_type": "code",
   "execution_count": null,
   "id": "de0c7d95",
   "metadata": {},
   "outputs": [],
   "source": [
    "num = 7\n",
    "bool_val = bool(num)\n",
    "print(f'Number: {num}, Boolean: {bool_val}')"
   ]
  },
  {
   "cell_type": "markdown",
   "id": "04149e3e",
   "metadata": {},
   "source": [
    "### Convert a decimal number to binary."
   ]
  },
  {
   "cell_type": "code",
   "execution_count": null,
   "id": "518ade93",
   "metadata": {},
   "outputs": [],
   "source": [
    "decimal_num = 10\n",
    "binary_str = bin(decimal_num)\n",
    "print(f'Decimal: {decimal_num}, Binary: {binary_str}')"
   ]
  }
 ],
 "metadata": {},
 "nbformat": 4,
 "nbformat_minor": 5
}